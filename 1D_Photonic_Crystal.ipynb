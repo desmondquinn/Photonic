{
 "cells": [
  {
   "cell_type": "markdown",
   "id": "634a8e62",
   "metadata": {},
   "source": [
    "## Photonic crystal in 1d"
   ]
  },
  {
   "cell_type": "code",
   "execution_count": 5,
   "id": "3d2db769",
   "metadata": {},
   "outputs": [],
   "source": [
    "import numpy as np\n",
    "import matplotlib.pyplot as plt"
   ]
  },
  {
   "cell_type": "code",
   "execution_count": 6,
   "id": "df579919",
   "metadata": {},
   "outputs": [],
   "source": [
    "plt.rcParams.update({'font.size': 12,\n",
    "                     'axes.titlesize': 12,\n",
    "                     'axes.labelsize': 11,\n",
    "                     'lines.linewidth': 1,\n",
    "                     'lines.markersize': 10,\n",
    "                     'xtick.labelsize' : 10,\n",
    "                     'ytick.labelsize' : 10,\n",
    "                     'xtick.top' : True,\n",
    "                     'xtick.direction' : 'in',\n",
    "                     'ytick.right' : True,\n",
    "                     'ytick.direction' : 'in',}) "
   ]
  },
  {
   "cell_type": "markdown",
   "id": "84dbad64",
   "metadata": {},
   "source": [
    "**Reference for theory:** Lukas Novotny, Bert Hecht - Principles of nano-optics -Cambridge University Press (2006)"
   ]
  },
  {
   "cell_type": "markdown",
   "id": "9d834e18",
   "metadata": {},
   "source": [
    "For a metamaterial made up of an infinite number of planar layers of thickness d, oriented in the z direction, the propagations modes are determined by the characteristic equation:"
   ]
  },
  {
   "cell_type": "markdown",
   "id": "be99eda9",
   "metadata": {},
   "source": [
    "$ cos(2k_B d) = cos(k_{z1}d)cos(k_{z2}d) - \\frac{1}{2}(p_m + \\frac{1}{pm})sin(k_{z1}d)sin(k_{z2}d) $"
   ]
  },
  {
   "cell_type": "markdown",
   "id": "fa53ac1f",
   "metadata": {},
   "source": [
    "where\n",
    "$ k_{z1} = \\sqrt \\epsilon_1 \\omega/c $ and\n",
    "$ k_{z2} = \\sqrt \\epsilon_2 \\omega/c $"
   ]
  },
  {
   "cell_type": "markdown",
   "id": "8d903c5b",
   "metadata": {},
   "source": [
    "The absence of solutions gives rise to bandgaps"
   ]
  },
  {
   "cell_type": "code",
   "execution_count": 7,
   "id": "42878cc4",
   "metadata": {},
   "outputs": [],
   "source": [
    "def RHS(n,epsilon1,epsilon2):\n",
    "    #normalised units\n",
    "    #TE mode\n",
    "    c = 1\n",
    "    #speed of light can be 1 but the 2pi factor is important \n",
    "    kz1d = (np.sqrt(epsilon1)*2*np.pi)/(n*c) #at normal incidence\n",
    "    kz2d = (np.sqrt(epsilon2)*2*np.pi)/(n*c)\n",
    "    pm = np.sqrt(epsilon2/epsilon1)\n",
    "    rhs = (np.cos(kz1d)*np.cos(kz2d)) - ((0.5*(pm+(1/pm)))*np.sin(kz1d)*np.sin(kz2d))\n",
    "    return(rhs)"
   ]
  },
  {
   "cell_type": "code",
   "execution_count": 8,
   "id": "9af558e5",
   "metadata": {},
   "outputs": [
    {
     "data": {
      "image/png": "[encoded data removed]",
      "text/plain": [
       "<Figure size 450x300 with 1 Axes>"
      ]
     },
     "metadata": {
      "needs_background": "light"
     },
     "output_type": "display_data"
    }
   ],
   "source": [
    "N = np.arange(1,20,1)\n",
    "epsilon1 = 2.33 #(SiO2)\n",
    "epsilon2 = 17.88 #(InSb)\n",
    "\n",
    "y = RHS(N,epsilon1,epsilon2)\n",
    "\n",
    "plt.figure(figsize=(3,2), dpi=150)\n",
    "plt.plot(N,y)\n",
    "plt.scatter(N,y,s=8)\n",
    "plt.plot(N,-1*np.ones(19),'--',color='black')\n",
    "plt.plot(N,1*np.ones(19),'--',color='black')\n",
    "plt.xlabel('$\\lambda$/d')\n",
    "plt.show()"
   ]
  },
  {
   "cell_type": "code",
   "execution_count": null,
   "id": "dec7ec43",
   "metadata": {},
   "outputs": [],
   "source": []
  }
 ],
 "metadata": {
  "kernelspec": {
   "display_name": "Python 3 (ipykernel)",
   "language": "python",
   "name": "python3"
  },
  "language_info": {
   "codemirror_mode": {
    "name": "ipython",
    "version": 3
   },
   "file_extension": ".py",
   "mimetype": "text/x-python",
   "name": "python",
   "nbconvert_exporter": "python",
   "pygments_lexer": "ipython3",
   "version": "3.9.7"
  }
 },
 "nbformat": 4,
 "nbformat_minor": 5
}
